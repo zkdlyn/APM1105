{
 "cells": [
  {
   "cell_type": "code",
   "execution_count": 12,
   "metadata": {},
   "outputs": [
    {
     "name": "stdout",
     "output_type": "stream",
     "text": [
      "This program multiplies the user's given set of numbers\n",
      "The product of the numbers in the list [1, 2, 5, -4, 3] is -120\n"
     ]
    }
   ],
   "source": [
    "'''\n",
    "Write a Python function to multiply\n",
    "all the numbers in a list.\n",
    "'''\n",
    "# list by user\n",
    "num_list = [1, 2 , 5, -4, 3]\n",
    "print(\"This program multiplies the user's given set of numbers\")\n",
    "\n",
    "\n",
    "# multiply function\n",
    "def multiply_list(num):\n",
    "    x = 1\n",
    "    for n in num:\n",
    "        x = x * n\n",
    "    return x\n",
    "\n",
    "print(f'The product of the numbers in the list {num_list} is', end=' ')\n",
    "print(multiply_list(num_list))\n"
   ]
  },
  {
   "cell_type": "code",
   "execution_count": 11,
   "metadata": {},
   "outputs": [
    {
     "name": "stdout",
     "output_type": "stream",
     "text": [
      "Enter number of squares per column/row: 5\n",
      "* = = = = * = = = = * = = = = * = = = = * = = = = *\n",
      ":         :         :         :         :         :         \n",
      ":         :         :         :         :         :         \n",
      ":         :         :         :         :         :         \n",
      ":         :         :         :         :         :         \n",
      "* = = = = * = = = = * = = = = * = = = = * = = = = *\n",
      ":         :         :         :         :         :         \n",
      ":         :         :         :         :         :         \n",
      ":         :         :         :         :         :         \n",
      ":         :         :         :         :         :         \n",
      "* = = = = * = = = = * = = = = * = = = = * = = = = *\n",
      ":         :         :         :         :         :         \n",
      ":         :         :         :         :         :         \n",
      ":         :         :         :         :         :         \n",
      ":         :         :         :         :         :         \n",
      "* = = = = * = = = = * = = = = * = = = = * = = = = *\n",
      ":         :         :         :         :         :         \n",
      ":         :         :         :         :         :         \n",
      ":         :         :         :         :         :         \n",
      ":         :         :         :         :         :         \n",
      "* = = = = * = = = = * = = = = * = = = = * = = = = *\n",
      ":         :         :         :         :         :         \n",
      ":         :         :         :         :         :         \n",
      ":         :         :         :         :         :         \n",
      ":         :         :         :         :         :         \n",
      "* = = = = * = = = = * = = = = * = = = = * = = = = *\n"
     ]
    }
   ],
   "source": [
    "'''\n",
    "Write a function that draws a grid\n",
    "'''\n",
    "# draw function\n",
    "def draw_grid(square):\n",
    "  r = ('* = = = = ' * square + '*')\n",
    "  c = ('\\n'+':         ' * (square+1))\n",
    "  return ((r+4*c) + '\\n')*square + r\n",
    "\n",
    "# user input for dimensions\n",
    "x = int(input(\"Enter number of squares per column/row: \"))\n",
    "print(draw_grid(x))"
   ]
  },
  {
   "cell_type": "code",
   "execution_count": null,
   "metadata": {},
   "outputs": [],
   "source": []
  }
 ],
 "metadata": {
  "kernelspec": {
   "display_name": "Python 3",
   "language": "python",
   "name": "python3"
  },
  "language_info": {
   "codemirror_mode": {
    "name": "ipython",
    "version": 3
   },
   "file_extension": ".py",
   "mimetype": "text/x-python",
   "name": "python",
   "nbconvert_exporter": "python",
   "pygments_lexer": "ipython3",
   "version": "3.7.0"
  }
 },
 "nbformat": 4,
 "nbformat_minor": 2
}
