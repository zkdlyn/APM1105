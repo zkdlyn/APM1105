{
 "cells": [
  {
   "cell_type": "markdown",
   "id": "8adb8d28",
   "metadata": {},
   "source": [
    "1. Create an exponent calculator using both iterations and recursion, with rendering time."
   ]
  },
  {
   "cell_type": "code",
   "execution_count": 12,
   "id": "33b25c96",
   "metadata": {
    "scrolled": true
   },
   "outputs": [
    {
     "name": "stdout",
     "output_type": "stream",
     "text": [
      "Enter a base number: 400\n",
      "Enter exponent: 500\n",
      "\n",
      "\n",
      "Test Examples for Base 2 and Exponent 3\n",
      "Iterative Program: 8\n",
      "Recursive Program: 8\n",
      "\n",
      "\n",
      "\n",
      "\n",
      "Iterative Solution: inf\n",
      "Render time: 0.0 seconds\n",
      "\n",
      "\n",
      "Recursive Solution: inf\n",
      "Render time: 0.0 seconds\n"
     ]
    }
   ],
   "source": [
    "import time\n",
    "\n",
    "# input base and exponent\n",
    "# bawal 0 raised to 0 ,, error message output undefined\n",
    "base = float(input(\"Enter a base number: \"))\n",
    "exponent = float(input(\"Enter exponent: \"))\n",
    "def iterative_exponent(b, e):\n",
    "    answer = 1\n",
    "    x = 1\n",
    "    if b == 0 and e == 0:\n",
    "        print(\"undefined\")\n",
    "    else:\n",
    "        while x <= abs(e):\n",
    "            answer *= b\n",
    "            x=x+1\n",
    "        if e < 0:\n",
    "            return 1/answer\n",
    "        else:\n",
    "            return answer\n",
    "\n",
    "\n",
    "def recursive_exponent(b, e):\n",
    "    if (b != 0) and (e == 0):\n",
    "        return 1\n",
    "    elif (b == 0) and (e == 0):\n",
    "        print(\"undefined\")\n",
    "    elif b == 0 and e != 0:\n",
    "        return 0\n",
    "    elif e<0:\n",
    "        e = e*(-1)\n",
    "        return 1 / (b * recursive_exponent(b, e-1))\n",
    "    else:\n",
    "        return b * recursive_exponent(b, e - 1)\n",
    "\n",
    "print(\"\\n\")\n",
    "\n",
    "print(\"Test Examples for Base 2 and Exponent 3\")\n",
    "print(f\"Iterative Program: {iterative_exponent(2, 3)}\")\n",
    "print(f\"Recursive Program: {recursive_exponent(2, 3)}\")\n",
    "print(\"\\n\")\n",
    "\n",
    "\n",
    "\n",
    "print(\"\\n\")\n",
    "start_time = time.time()\n",
    "print(f\"Iterative Solution: {iterative_exponent(base, exponent)}\")\n",
    "end_time = time.time()\n",
    "render_time = end_time - start_time\n",
    "print(f\"Render time: {render_time} seconds\")\n",
    "\n",
    "print(\"\\n\")\n",
    "\n",
    "start_time = time.time()\n",
    "print(f\"Recursive Solution: {recursive_exponent(base, exponent)}\")\n",
    "end_time = time.time()\n",
    "render_time = end_time - start_time\n",
    "print(f\"Render time: {render_time} seconds\")"
   ]
  },
  {
   "attachments": {},
   "cell_type": "markdown",
   "id": "4da94b5d",
   "metadata": {},
   "source": [
    "\n",
    "\n",
    "I tried large numbers to see a difference because the render times are very close. Jupyter, however can not display the answer anymore as it would be very large. I provided test examples for 2^3 to demonstrate that the program is working.\n",
    "\n",
    "Based on my test for base 100 raised to 300, the iterative program ran faster with 0.0 seconds of render time compared to the recursive program with a render time of 0.0009965896606445312, see image attached in submission.\n",
    "\n",
    "On other tests, however, only render times of 0 seconds are recorded. It can be assumed that the difference is very minimal. The run times may be different for different devices.\n",
    "\n",
    "Recursion take a longer render time because it takes up more memory because every time a function is called recursively, it creates a new stack to store the call. Whereas, iteration avoids this process and simply repeats a set of operations using a loop."
   ]
  },
  {
   "cell_type": "markdown",
   "id": "8037a8c0",
   "metadata": {},
   "source": [
    "2. Iteratively and recursively calculate the sum of the first n powers of 2, along with the rendering time of each function using the time module"
   ]
  },
  {
   "cell_type": "code",
   "execution_count": 10,
   "id": "413eb3e1",
   "metadata": {},
   "outputs": [
    {
     "name": "stdout",
     "output_type": "stream",
     "text": [
      "Test Example for n=3\n",
      "Iterative solution: 15\n",
      "Recursive solution: 15\n",
      "\n",
      "\n",
      "Enter a value for n: 500\n",
      "Iterative solution: 6546781215792283740026379393655198304433284092086129578966582736192267592809349109766540184651808314301773368255120142018434513091770786106657055178751\n",
      "Render time: 0.0 seconds\n",
      "\n",
      "\n",
      "Recursive solution: 6546781215792283740026379393655198304433284092086129578966582736192267592809349109766540184651808314301773368255120142018434513091770786106657055178751\n",
      "Render time: 0.0009963512420654297 seconds\n"
     ]
    }
   ],
   "source": [
    "import time\n",
    "\n",
    "def iterative_sum(n):\n",
    "    answer = 0\n",
    "    x=0\n",
    "    while x <= n:\n",
    "        answer = answer + 2**x\n",
    "        x=x+1\n",
    "    return answer\n",
    "\n",
    "def recursive_sum(n):\n",
    "    if n==0:\n",
    "        return 1\n",
    "    else:\n",
    "        return 2**n + recursive_sum(n-1)\n",
    "\n",
    "print(\"Test Example for n=3\")\n",
    "print(f\"Iterative solution: {iterative_sum(3)}\")\n",
    "print(f\"Recursive solution: {recursive_sum(3)}\")\n",
    "\n",
    "print(\"\\n\")\n",
    "\n",
    "n = int(input(\"Enter a value for n: \"))\n",
    "    \n",
    "start_time = time.time()\n",
    "print(f\"Iterative solution: {iterative_sum(n)}\")\n",
    "end_time = time.time()\n",
    "render_time = end_time - start_time\n",
    "print(f\"Render time: {render_time} seconds\")\n",
    "\n",
    "print(\"\\n\")\n",
    "start_time = time.time()\n",
    "print(f\"Recursive solution: {recursive_sum(n)}\")\n",
    "end_time = time.time()\n",
    "render_time = end_time - start_time\n",
    "print(f\"Render time: {render_time} seconds\")"
   ]
  },
  {
   "cell_type": "markdown",
   "id": "e84fde31",
   "metadata": {},
   "source": [
    "Again, I tried a large number (n=500) to see the difference because the render times are very close. Example for n=3 is also displayed for reference\n",
    "\n",
    "Based on my test for n = 500, the iterative program rendered faster after 0.0 seconds compared to the recursive program which ran for 0.0009963512420654297 seconds. Iterative function performed faster because it simply repeated the operations unlike recursion which had to call the function over and over.\n",
    "\n"
   ]
  }
 ],
 "metadata": {
  "kernelspec": {
   "display_name": "Python 3 (ipykernel)",
   "language": "python",
   "name": "python3"
  },
  "language_info": {
   "codemirror_mode": {
    "name": "ipython",
    "version": 3
   },
   "file_extension": ".py",
   "mimetype": "text/x-python",
   "name": "python",
   "nbconvert_exporter": "python",
   "pygments_lexer": "ipython3",
   "version": "3.9.13"
  }
 },
 "nbformat": 4,
 "nbformat_minor": 5
}
