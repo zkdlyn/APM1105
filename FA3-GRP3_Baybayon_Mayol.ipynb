{
 "cells": [
  {
   "cell_type": "code",
   "execution_count": 7,
   "metadata": {},
   "outputs": [
    {
     "name": "stdout",
     "output_type": "stream",
     "text": [
      "2\n",
      "4\n",
      "6\n",
      "8\n",
      "10\n",
      "24\n",
      "26\n",
      "28\n",
      "30\n",
      "32\n"
     ]
    }
   ],
   "source": [
    "'''\n",
    "Write a Python program to print the even numbers from a given list.\n",
    "\n",
    "List: [1, 2, 3, 4, 5, 6, 7, 8, 9, 10, 11, 13, 15, 17, 19, 24, 26, 28, 30, 32]\n",
    "'''\n",
    "list_all = [1, 2, 3, 4, 5, 6, 7, 8, 9, 10, 11, 13, 15, 17, 19, 24, 26, 28, 30, 32]\n",
    "\n",
    "for x in list_all:\n",
    "    if x%2 == 0:\n",
    "        print(x)"
   ]
  },
  {
   "cell_type": "code",
   "execution_count": 11,
   "metadata": {},
   "outputs": [
    {
     "name": "stdout",
     "output_type": "stream",
     "text": [
      "[10, 12, 14, 16, 18, 20, 22, 24, 26, 28, 30, 32, 34, 36, 38, 40, 42, 44, 46, 48, 50, 52, 54, 56, 58, 60]\n"
     ]
    }
   ],
   "source": [
    "'''\n",
    "Generate a Python list of all the even numbers between 10 to 60.\n",
    "'''\n",
    "even_list = []\n",
    "\n",
    "for x in range(10,61):\n",
    "    if x%2 == 0:\n",
    "        even_list.append(x)\n",
    "\n",
    "print(even_list)"
   ]
  },
  {
   "cell_type": "code",
   "execution_count": 9,
   "metadata": {},
   "outputs": [
    {
     "name": "stdout",
     "output_type": "stream",
     "text": [
      "Enter name: Mark\n",
      "Enter name: Mary\n",
      "Enter name: Michelle\n",
      "Enter name: Miguel\n",
      "Enter name: Micah\n",
      "Enter salary: 90000\n",
      "Enter salary: 8000\n",
      "Enter salary: \n",
      "Enter salary: 50000\n",
      "Enter salary: 85000\n",
      "\n",
      "Prof Name: Mark\n",
      "Prof Name: Mary\n",
      "Prof Name: Michelle\n",
      "Prof Name: Miguel\n",
      "Prof Name: Micah\n",
      "\n",
      "Mark's salary: 90000\n",
      "Mary's salary: 8000\n",
      "Michelle's salary: 70000\n",
      "Miguel's salary: 50000\n",
      "Micah's salary: 85000\n"
     ]
    }
   ],
   "source": [
    "'''\n",
    "Write a program to create a function show_feu_professor() using the following conditions:\n",
    "\n",
    "    It should accept the professor’s name and salary and display both.\n",
    "    If the salary is missing in the function call then assign default value 70000 to salary\n",
    "'''\n",
    "\n",
    "def show_feu_professor():\n",
    "    name_list = []\n",
    "    x = 0\n",
    "\n",
    "    while x<5:\n",
    "        name = input('Enter name: ')\n",
    "        name_list.append(name)\n",
    "        x = x + 1 \n",
    "    \n",
    "    salary_list = []\n",
    "\n",
    "    y = 0 \n",
    "\n",
    "    while y<5:\n",
    "        salary = input('Enter salary: ')\n",
    "        if salary == '':\n",
    "            salary = '70000'\n",
    "        salary_list.append(salary)\n",
    "        y = y + 1\n",
    "    \n",
    "    print(\"\")\n",
    "\n",
    "    for element in name_list:\n",
    "        print('Prof Name: ' + element)\n",
    "    \n",
    "    print(\"\")\n",
    "    z = 0\n",
    "    for value in salary_list:\n",
    "        print(name_list[z] + \"'s salary: \" + value)\n",
    "        z = z + 1\n",
    "\n",
    "show_feu_professor()"
   ]
  },
  {
   "cell_type": "code",
   "execution_count": null,
   "metadata": {},
   "outputs": [],
   "source": []
  }
 ],
 "metadata": {
  "kernelspec": {
   "display_name": "Python 3",
   "language": "python",
   "name": "python3"
  },
  "language_info": {
   "codemirror_mode": {
    "name": "ipython",
    "version": 3
   },
   "file_extension": ".py",
   "mimetype": "text/x-python",
   "name": "python",
   "nbconvert_exporter": "python",
   "pygments_lexer": "ipython3",
   "version": "3.7.0"
  }
 },
 "nbformat": 4,
 "nbformat_minor": 2
}
