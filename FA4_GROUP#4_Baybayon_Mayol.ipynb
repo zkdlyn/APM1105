{
 "cells": [
  {
   "cell_type": "markdown",
   "metadata": {},
   "source": [
    "Write a function named ack that evaluates the Ackermann function. Use your function to evaluate ack(2,4). What happens for larger values of m and n?\n"
   ]
  },
  {
   "cell_type": "code",
   "execution_count": 1,
   "metadata": {},
   "outputs": [
    {
     "name": "stdout",
     "output_type": "stream",
     "text": [
      "Example for ack(2,4):\n",
      "11\n",
      "\n",
      "\n",
      "This program can not display the answers\n",
      "if m and n are both large numbers since the result\n",
      "is too large to represent.\n",
      "\n",
      "Enter a value for m: 0\n",
      "Enter a value for n: 1000\n",
      "1001\n"
     ]
    }
   ],
   "source": [
    "def ack(m, n):\n",
    "    if m == 0:\n",
    "        return n+1\n",
    "    if n == 0:\n",
    "        return ack(m-1, 1)\n",
    "    p = ack(m,n-1)\n",
    "    return ack(m-1, p)\n",
    "\n",
    "\n",
    "print(\"Example for ack(2,4):\")\n",
    "print(ack(2,4))\n",
    "print(\"\\n\")\n",
    "print('''This program can not display the answers\n",
    "if m and n are both large numbers since the result\n",
    "is too large to represent.\n",
    "''')\n",
    "\n",
    "m = int(input(\"Enter a value for m: \"))\n",
    "n = int(input(\"Enter a value for n: \"))\n",
    "print(ack(m,n))"
   ]
  },
  {
   "cell_type": "markdown",
   "metadata": {},
   "source": [
    "A number, a is a power of b if it is divisible by b and a/b is a power of b. Write a function called is_power that takes parameters a and b and returns True if a is a power of b."
   ]
  },
  {
   "cell_type": "code",
   "execution_count": 2,
   "metadata": {},
   "outputs": [
    {
     "name": "stdout",
     "output_type": "stream",
     "text": [
      "Base case example for (2.25,1.5):\n",
      "True\n",
      "\n",
      "\n",
      "Base case example for (4, -2):\n",
      "True\n",
      "\n",
      "\n",
      "Base case example for (8, -2):\n",
      "False\n",
      "\n",
      "\n",
      "Enter a number for a: 64\n",
      "Enter a number for b: 2\n",
      "True\n"
     ]
    }
   ],
   "source": [
    "def is_power(a,b):\n",
    "    if a==b or a==1: #for special case raised to zero (a==1)\n",
    "        return True\n",
    "    elif (abs(a)>1 and abs(b)>1) or (abs(a)<1 and abs(b)<1):\n",
    "        return is_power(a/b, b)       \n",
    "    return False\n",
    "\n",
    "print(\"Base case example for (2.25,1.5):\")\n",
    "print(is_power(2.25,1.5))\n",
    "print(\"\\n\")\n",
    "print(\"Base case example for (4, -2):\")\n",
    "print(is_power(4, -2))\n",
    "print(\"\\n\")\n",
    "print(\"Base case example for (8, -2):\")\n",
    "print(is_power(8, -2))\n",
    "2\n",
    "print(\"\\n\")\n",
    "a = float(input(\"Enter a number for a: \"))\n",
    "b = float(input(\"Enter a number for b: \"))\n",
    "\n",
    "print(is_power(a,b))"
   ]
  },
  {
   "cell_type": "code",
   "execution_count": null,
   "metadata": {},
   "outputs": [],
   "source": []
  }
 ],
 "metadata": {
  "kernelspec": {
   "display_name": "Python 3",
   "language": "python",
   "name": "python3"
  },
  "language_info": {
   "codemirror_mode": {
    "name": "ipython",
    "version": 3
   },
   "file_extension": ".py",
   "mimetype": "text/x-python",
   "name": "python",
   "nbconvert_exporter": "python",
   "pygments_lexer": "ipython3",
   "version": "3.7.0"
  }
 },
 "nbformat": 4,
 "nbformat_minor": 2
}
